{
 "cells": [
  {
   "cell_type": "code",
   "execution_count": null,
   "metadata": {},
   "outputs": [],
   "source": [
    "import re\n",
    "import numpy as np\n",
    "import pandas as pd\n",
    "import matplotlib.pyplot as plt\n",
    "import matplotlib\n",
    "import zipfile\n",
    "matplotlib.style.use('ggplot')"
   ]
  },
  {
   "cell_type": "code",
   "execution_count": null,
   "metadata": {},
   "outputs": [],
   "source": [
    "#zip_ref = zipfile.ZipFile('wap_am_inf.zip', 'r')\n",
    "zip_ref = zipfile.ZipFile('Outono_EMAp.zip', 'r')\n",
    "\n",
    "zip_ref.extractall()\n",
    "zip_ref.close()"
   ]
  },
  {
   "cell_type": "code",
   "execution_count": null,
   "metadata": {},
   "outputs": [],
   "source": [
    "chat = pd.read_table('_chat.txt')\n",
    "chat.columns = ['msg']\n",
    "chat.tail()"
   ]
  },
  {
   "cell_type": "code",
   "execution_count": null,
   "metadata": {},
   "outputs": [],
   "source": [
    "lista = []\n",
    "data = r'\\d+/\\d+/\\d+ \\d+:\\d+:\\d+'\n",
    "name = r'.*?\\:'\n",
    "msg = r':.*'\n",
    "\n",
    "msgs = [i for i in chat.msg]\n",
    "\n",
    "for i in msgs:\n",
    "    result = re.search(data, i)\n",
    "    result2 = re.search(name, i[22:])\n",
    "    result3 = re.search(msg, i[22:])\n",
    "    if result and result2 and result3:\n",
    "        lista.append([result.group(),result2.group()[:-1],result3.group()[1:]])\n",
    "\n",
    "wpp = pd.DataFrame(lista, columns=['data', 'nome', 'msg'])"
   ]
  },
  {
   "cell_type": "code",
   "execution_count": null,
   "metadata": {},
   "outputs": [],
   "source": [
    "wpp.nome = [x.strip() for x in wpp.nome]\n",
    "wpp.data = pd.to_datetime(wpp.data)\n",
    "wpp['day'] = [x.day for x in wpp.data]\n",
    "#wpp['dia_semana'] = [x.strftime('%a') for x in wpp.data]\n",
    "wpp['dia_semana'] = [x.weekday() for x in wpp.data]\n",
    "wpp['month'] = [x.month for x in wpp.data]\n",
    "wpp['year'] = [x.year for x in wpp.data]\n",
    "wpp['horario'] = [x.strftime('%H:%M') for x in wpp.data]\n",
    "wpp['caract'] = [len(''.join(x.split())) for x in wpp.msg]\n",
    "wpp['audio_'] = [('áudio ocultado' in i)*1 for i in wpp.msg]\n",
    "wpp['imagem_'] = [('imagem ocultada' in i)*1 for i in wpp.msg]\n",
    "wpp['msg_sem_midia'] = [(not (('áudio ocultado' in i)*1 or ('imagem ocultada' in i)*1))*1 for i in wpp.msg]"
   ]
  },
  {
   "cell_type": "code",
   "execution_count": null,
   "metadata": {},
   "outputs": [],
   "source": [
    "#wpp['nome'] = wpp['nome'].map({'Kkyo': 'Kayo', '+55 21 97152-5505': 'Zidane', '+55 21 98795-7687': 'Felippe', 'Bravo Rodrigo':'Bravo'})\n",
    "nomes = {'Renato Aranha':'Renato', 'Kkyo': 'Kayo', '\\u202a+55\\xa021\\xa097152‑5505\\u202c': 'Zidane', '\\u202a+55\\xa021\\xa098795‑7687\\u202c': 'Felippe', 'Bravo Rodrigo':'Bravo'}\n",
    "wpp.nome.replace(to_replace=nomes, inplace=True)"
   ]
  },
  {
   "cell_type": "code",
   "execution_count": null,
   "metadata": {},
   "outputs": [],
   "source": [
    "#wpp = wpp[wpp.nome!='Amigos de infância!']\n",
    "wpp = wpp[wpp.nome!='Outono EMAp']"
   ]
  },
  {
   "cell_type": "code",
   "execution_count": null,
   "metadata": {},
   "outputs": [],
   "source": [
    "wpp.tail()"
   ]
  },
  {
   "cell_type": "code",
   "execution_count": null,
   "metadata": {},
   "outputs": [],
   "source": [
    "pd.DataFrame(wpp.groupby(['year','nome'])[['audio_','imagem_','msg_sem_midia']].sum())"
   ]
  },
  {
   "cell_type": "code",
   "execution_count": null,
   "metadata": {},
   "outputs": [],
   "source": [
    "pd.DataFrame(wpp.groupby('year').nome.value_counts())"
   ]
  },
  {
   "cell_type": "code",
   "execution_count": null,
   "metadata": {},
   "outputs": [],
   "source": [
    "import matplotlib.pyplot as plt\n",
    "\n",
    "fig, axes = plt.subplots(nrows=1, ncols=2, figsize=(16, 5))\n",
    "for j,i in enumerate(range(2017,2019)):\n",
    "    df = pd.DataFrame(wpp[wpp['year']==i].nome.value_counts())\n",
    "    qtd_msgs = wpp[wpp['year']==i].msg.count()\n",
    "    df.plot.bar(fontsize=12, ax=axes[j], title=str(i)+': '+str(qtd_msgs)+' mensagens', colormap='plasma', alpha=0.9)"
   ]
  },
  {
   "cell_type": "code",
   "execution_count": null,
   "metadata": {},
   "outputs": [],
   "source": [
    "import matplotlib.pyplot as plt\n",
    "\n",
    "fig, axes = plt.subplots(nrows=2, ncols=1, figsize=(12, 6), sharex=True)\n",
    "for j,i in enumerate(range(2017,2019)):\n",
    "    col = wpp[(wpp.year==i)].horario.value_counts()\n",
    "    col.index = pd.to_datetime(col.index)\n",
    "    menor = pd.DataFrame(col.resample('30min').sum())\n",
    "    menor.index = [x.time().strftime('%H:%M') for x in menor.index]\n",
    "    qtd_msgs = wpp[wpp['year']==i].msg.count()\n",
    "    menor.plot.bar(fontsize=10, ax=axes[j], title = str(i)+': '+str(qtd_msgs)+' msgs', colormap='plasma', alpha=0.9)\n",
    "    plt.tight_layout()"
   ]
  },
  {
   "cell_type": "code",
   "execution_count": null,
   "metadata": {},
   "outputs": [],
   "source": [
    "import matplotlib.pyplot as plt\n",
    "\n",
    "ano = 2018\n",
    "filtro = wpp[(wpp['year']==ano)].nome.head(30).unique()\n",
    "nrows = len(filtro)\n",
    "\n",
    "fig, axes = plt.subplots(nrows=nrows, ncols=1, figsize=(12, 10))\n",
    "\n",
    "for i,j in enumerate(filtro):\n",
    "    col = wpp[(wpp['nome']==j)&(wpp['year']==ano)].horario.value_counts()\n",
    "    col.index = pd.to_datetime(col.index)\n",
    "    col = col.sort_index()\n",
    "    menor = pd.DataFrame(col.resample('30min').sum())\n",
    "    menor.index = [x.time().strftime('%H:%M') for x in menor.index]\n",
    "    qtd_msgs = wpp[(wpp['nome']==j)&(wpp['year']==ano)].msg.count()\n",
    "    menor.plot.bar(fontsize=8, ax=axes[i], title= str(j)+': '+str(qtd_msgs)+' msgs', colormap='plasma', alpha=0.8)\n",
    "    #axes[i].set_ylabel(j)\n",
    "    plt.tight_layout()\n",
    "    plt.xticks(rotation=90)"
   ]
  },
  {
   "cell_type": "code",
   "execution_count": null,
   "metadata": {},
   "outputs": [],
   "source": [
    "wpp.head()"
   ]
  },
  {
   "cell_type": "code",
   "execution_count": null,
   "metadata": {},
   "outputs": [],
   "source": [
    "wpp['msgss'] = 1\n",
    "\n",
    "new_analysis = pd.DataFrame(wpp.groupby(['nome'])[['caract','msgss']].sum().sort_values('caract',ascending=False)).reset_index()\n",
    "new_analysis['media_caract_por_msg'] = round(new_analysis.caract/new_analysis.msgss,1)\n",
    "new_analysis = new_analysis[(new_analysis.nome!='[04/06/2018 13')&(new_analysis.nome!='[18/05/2017 11')]\n",
    "new_analysis.sort_values('media_caract_por_msg',ascending=False)"
   ]
  },
  {
   "cell_type": "code",
   "execution_count": null,
   "metadata": {},
   "outputs": [],
   "source": [
    "import seaborn as sns\n",
    "\n",
    "fig, axes = plt.subplots(figsize=(14, 8))\n",
    "\n",
    "sns.barplot(y='nome', x='media_caract_por_msg', data=a, order=a.nome.unique(), palette='inferno')"
   ]
  },
  {
   "cell_type": "code",
   "execution_count": null,
   "metadata": {},
   "outputs": [],
   "source": []
  }
 ],
 "metadata": {
  "kernelspec": {
   "display_name": "Python 3",
   "language": "python",
   "name": "python3"
  },
  "language_info": {
   "codemirror_mode": {
    "name": "ipython",
    "version": 3
   },
   "file_extension": ".py",
   "mimetype": "text/x-python",
   "name": "python",
   "nbconvert_exporter": "python",
   "pygments_lexer": "ipython3",
   "version": "3.5.2"
  }
 },
 "nbformat": 4,
 "nbformat_minor": 2
}
